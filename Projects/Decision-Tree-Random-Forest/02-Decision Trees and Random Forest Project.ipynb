{
 "cells": [
  {
   "cell_type": "markdown",
   "metadata": {},
   "source": [
    "___\n",
    "\n",
    "<a href='http://www.pieriandata.com'> <img src='../Pierian_Data_Logo.png' /></a>\n",
    "___\n",
    "# Random Forest Project \n",
    "\n",
    "For this project we will be exploring publicly available data from [LendingClub.com](www.lendingclub.com). Lending Club connects people who need money (borrowers) with people who have money (investors). Hopefully, as an investor you would want to invest in people who showed a profile of having a high probability of paying you back. We will try to create a model that will help predict this.\n",
    "\n",
    "Lending club had a [very interesting year in 2016](https://en.wikipedia.org/wiki/Lending_Club#2016), so let's check out some of their data and keep the context in mind. This data is from before they even went public.\n",
    "\n",
    "We will use lending data from 2007-2010 and be trying to classify and predict whether or not the borrower paid back their loan in full. You can download the data from [here](https://www.lendingclub.com/info/download-data.action) or just use the csv already provided. It's recommended you use the csv provided as it has been cleaned of NA values.\n",
    "\n",
    "Here are what the columns represent:\n",
    "* credit.policy: 1 if the customer meets the credit underwriting criteria of LendingClub.com, and 0 otherwise.\n",
    "* purpose: The purpose of the loan (takes values \"credit_card\", \"debt_consolidation\", \"educational\", \"major_purchase\", \"small_business\", and \"all_other\").\n",
    "* int.rate: The interest rate of the loan, as a proportion (a rate of 11% would be stored as 0.11). Borrowers judged by LendingClub.com to be more risky are assigned higher interest rates.\n",
    "* installment: The monthly installments owed by the borrower if the loan is funded.\n",
    "* log.annual.inc: The natural log of the self-reported annual income of the borrower.\n",
    "* dti: The debt-to-income ratio of the borrower (amount of debt divided by annual income).\n",
    "* fico: The FICO credit score of the borrower.\n",
    "* days.with.cr.line: The number of days the borrower has had a credit line.\n",
    "* revol.bal: The borrower's revolving balance (amount unpaid at the end of the credit card billing cycle).\n",
    "* revol.util: The borrower's revolving line utilization rate (the amount of the credit line used relative to total credit available).\n",
    "* inq.last.6mths: The borrower's number of inquiries by creditors in the last 6 months.\n",
    "* delinq.2yrs: The number of times the borrower had been 30+ days past due on a payment in the past 2 years.\n",
    "* pub.rec: The borrower's number of derogatory public records (bankruptcy filings, tax liens, or judgments)."
   ]
  },
  {
   "cell_type": "markdown",
   "metadata": {},
   "source": [
    "# Import Libraries\n",
    "\n",
    "**Import the usual libraries for pandas and plotting. You can import sklearn later on.**"
   ]
  },
  {
   "cell_type": "code",
   "execution_count": 2,
   "metadata": {},
   "outputs": [],
   "source": [
    "import pandas as pd\n",
    "import numpy as np\n",
    "import matplotlib.pyplot as plt\n",
    "import seaborn as sns\n",
    "%matplotlib inline"
   ]
  },
  {
   "cell_type": "markdown",
   "metadata": {},
   "source": [
    "## Get the Data\n",
    "\n",
    "** Use pandas to read loan_data.csv as a dataframe called loans.**"
   ]
  },
  {
   "cell_type": "code",
   "execution_count": 3,
   "metadata": {},
   "outputs": [],
   "source": [
    "loans=pd.read_csv('loan_data.csv')"
   ]
  },
  {
   "cell_type": "markdown",
   "metadata": {},
   "source": [
    "** Check out the info(), head(), and describe() methods on loans.**"
   ]
  },
  {
   "cell_type": "code",
   "execution_count": 4,
   "metadata": {},
   "outputs": [
    {
     "name": "stdout",
     "output_type": "stream",
     "text": [
      "<class 'pandas.core.frame.DataFrame'>\n",
      "RangeIndex: 9578 entries, 0 to 9577\n",
      "Data columns (total 14 columns):\n",
      "credit.policy        9578 non-null int64\n",
      "purpose              9578 non-null object\n",
      "int.rate             9578 non-null float64\n",
      "installment          9578 non-null float64\n",
      "log.annual.inc       9578 non-null float64\n",
      "dti                  9578 non-null float64\n",
      "fico                 9578 non-null int64\n",
      "days.with.cr.line    9578 non-null float64\n",
      "revol.bal            9578 non-null int64\n",
      "revol.util           9578 non-null float64\n",
      "inq.last.6mths       9578 non-null int64\n",
      "delinq.2yrs          9578 non-null int64\n",
      "pub.rec              9578 non-null int64\n",
      "not.fully.paid       9578 non-null int64\n",
      "dtypes: float64(6), int64(7), object(1)\n",
      "memory usage: 1.0+ MB\n"
     ]
    }
   ],
   "source": [
    "loans.info()"
   ]
  },
  {
   "cell_type": "code",
   "execution_count": 5,
   "metadata": {},
   "outputs": [
    {
     "data": {
      "text/html": [
       "<div>\n",
       "<style scoped>\n",
       "    .dataframe tbody tr th:only-of-type {\n",
       "        vertical-align: middle;\n",
       "    }\n",
       "\n",
       "    .dataframe tbody tr th {\n",
       "        vertical-align: top;\n",
       "    }\n",
       "\n",
       "    .dataframe thead th {\n",
       "        text-align: right;\n",
       "    }\n",
       "</style>\n",
       "<table border=\"1\" class=\"dataframe\">\n",
       "  <thead>\n",
       "    <tr style=\"text-align: right;\">\n",
       "      <th></th>\n",
       "      <th>credit.policy</th>\n",
       "      <th>int.rate</th>\n",
       "      <th>installment</th>\n",
       "      <th>log.annual.inc</th>\n",
       "      <th>dti</th>\n",
       "      <th>fico</th>\n",
       "      <th>days.with.cr.line</th>\n",
       "      <th>revol.bal</th>\n",
       "      <th>revol.util</th>\n",
       "      <th>inq.last.6mths</th>\n",
       "      <th>delinq.2yrs</th>\n",
       "      <th>pub.rec</th>\n",
       "      <th>not.fully.paid</th>\n",
       "    </tr>\n",
       "  </thead>\n",
       "  <tbody>\n",
       "    <tr>\n",
       "      <td>count</td>\n",
       "      <td>9578.000000</td>\n",
       "      <td>9578.000000</td>\n",
       "      <td>9578.000000</td>\n",
       "      <td>9578.000000</td>\n",
       "      <td>9578.000000</td>\n",
       "      <td>9578.000000</td>\n",
       "      <td>9578.000000</td>\n",
       "      <td>9.578000e+03</td>\n",
       "      <td>9578.000000</td>\n",
       "      <td>9578.000000</td>\n",
       "      <td>9578.000000</td>\n",
       "      <td>9578.000000</td>\n",
       "      <td>9578.000000</td>\n",
       "    </tr>\n",
       "    <tr>\n",
       "      <td>mean</td>\n",
       "      <td>0.804970</td>\n",
       "      <td>0.122640</td>\n",
       "      <td>319.089413</td>\n",
       "      <td>10.932117</td>\n",
       "      <td>12.606679</td>\n",
       "      <td>710.846314</td>\n",
       "      <td>4560.767197</td>\n",
       "      <td>1.691396e+04</td>\n",
       "      <td>46.799236</td>\n",
       "      <td>1.577469</td>\n",
       "      <td>0.163708</td>\n",
       "      <td>0.062122</td>\n",
       "      <td>0.160054</td>\n",
       "    </tr>\n",
       "    <tr>\n",
       "      <td>std</td>\n",
       "      <td>0.396245</td>\n",
       "      <td>0.026847</td>\n",
       "      <td>207.071301</td>\n",
       "      <td>0.614813</td>\n",
       "      <td>6.883970</td>\n",
       "      <td>37.970537</td>\n",
       "      <td>2496.930377</td>\n",
       "      <td>3.375619e+04</td>\n",
       "      <td>29.014417</td>\n",
       "      <td>2.200245</td>\n",
       "      <td>0.546215</td>\n",
       "      <td>0.262126</td>\n",
       "      <td>0.366676</td>\n",
       "    </tr>\n",
       "    <tr>\n",
       "      <td>min</td>\n",
       "      <td>0.000000</td>\n",
       "      <td>0.060000</td>\n",
       "      <td>15.670000</td>\n",
       "      <td>7.547502</td>\n",
       "      <td>0.000000</td>\n",
       "      <td>612.000000</td>\n",
       "      <td>178.958333</td>\n",
       "      <td>0.000000e+00</td>\n",
       "      <td>0.000000</td>\n",
       "      <td>0.000000</td>\n",
       "      <td>0.000000</td>\n",
       "      <td>0.000000</td>\n",
       "      <td>0.000000</td>\n",
       "    </tr>\n",
       "    <tr>\n",
       "      <td>25%</td>\n",
       "      <td>1.000000</td>\n",
       "      <td>0.103900</td>\n",
       "      <td>163.770000</td>\n",
       "      <td>10.558414</td>\n",
       "      <td>7.212500</td>\n",
       "      <td>682.000000</td>\n",
       "      <td>2820.000000</td>\n",
       "      <td>3.187000e+03</td>\n",
       "      <td>22.600000</td>\n",
       "      <td>0.000000</td>\n",
       "      <td>0.000000</td>\n",
       "      <td>0.000000</td>\n",
       "      <td>0.000000</td>\n",
       "    </tr>\n",
       "    <tr>\n",
       "      <td>50%</td>\n",
       "      <td>1.000000</td>\n",
       "      <td>0.122100</td>\n",
       "      <td>268.950000</td>\n",
       "      <td>10.928884</td>\n",
       "      <td>12.665000</td>\n",
       "      <td>707.000000</td>\n",
       "      <td>4139.958333</td>\n",
       "      <td>8.596000e+03</td>\n",
       "      <td>46.300000</td>\n",
       "      <td>1.000000</td>\n",
       "      <td>0.000000</td>\n",
       "      <td>0.000000</td>\n",
       "      <td>0.000000</td>\n",
       "    </tr>\n",
       "    <tr>\n",
       "      <td>75%</td>\n",
       "      <td>1.000000</td>\n",
       "      <td>0.140700</td>\n",
       "      <td>432.762500</td>\n",
       "      <td>11.291293</td>\n",
       "      <td>17.950000</td>\n",
       "      <td>737.000000</td>\n",
       "      <td>5730.000000</td>\n",
       "      <td>1.824950e+04</td>\n",
       "      <td>70.900000</td>\n",
       "      <td>2.000000</td>\n",
       "      <td>0.000000</td>\n",
       "      <td>0.000000</td>\n",
       "      <td>0.000000</td>\n",
       "    </tr>\n",
       "    <tr>\n",
       "      <td>max</td>\n",
       "      <td>1.000000</td>\n",
       "      <td>0.216400</td>\n",
       "      <td>940.140000</td>\n",
       "      <td>14.528354</td>\n",
       "      <td>29.960000</td>\n",
       "      <td>827.000000</td>\n",
       "      <td>17639.958330</td>\n",
       "      <td>1.207359e+06</td>\n",
       "      <td>119.000000</td>\n",
       "      <td>33.000000</td>\n",
       "      <td>13.000000</td>\n",
       "      <td>5.000000</td>\n",
       "      <td>1.000000</td>\n",
       "    </tr>\n",
       "  </tbody>\n",
       "</table>\n",
       "</div>"
      ],
      "text/plain": [
       "       credit.policy     int.rate  installment  log.annual.inc          dti  \\\n",
       "count    9578.000000  9578.000000  9578.000000     9578.000000  9578.000000   \n",
       "mean        0.804970     0.122640   319.089413       10.932117    12.606679   \n",
       "std         0.396245     0.026847   207.071301        0.614813     6.883970   \n",
       "min         0.000000     0.060000    15.670000        7.547502     0.000000   \n",
       "25%         1.000000     0.103900   163.770000       10.558414     7.212500   \n",
       "50%         1.000000     0.122100   268.950000       10.928884    12.665000   \n",
       "75%         1.000000     0.140700   432.762500       11.291293    17.950000   \n",
       "max         1.000000     0.216400   940.140000       14.528354    29.960000   \n",
       "\n",
       "              fico  days.with.cr.line     revol.bal   revol.util  \\\n",
       "count  9578.000000        9578.000000  9.578000e+03  9578.000000   \n",
       "mean    710.846314        4560.767197  1.691396e+04    46.799236   \n",
       "std      37.970537        2496.930377  3.375619e+04    29.014417   \n",
       "min     612.000000         178.958333  0.000000e+00     0.000000   \n",
       "25%     682.000000        2820.000000  3.187000e+03    22.600000   \n",
       "50%     707.000000        4139.958333  8.596000e+03    46.300000   \n",
       "75%     737.000000        5730.000000  1.824950e+04    70.900000   \n",
       "max     827.000000       17639.958330  1.207359e+06   119.000000   \n",
       "\n",
       "       inq.last.6mths  delinq.2yrs      pub.rec  not.fully.paid  \n",
       "count     9578.000000  9578.000000  9578.000000     9578.000000  \n",
       "mean         1.577469     0.163708     0.062122        0.160054  \n",
       "std          2.200245     0.546215     0.262126        0.366676  \n",
       "min          0.000000     0.000000     0.000000        0.000000  \n",
       "25%          0.000000     0.000000     0.000000        0.000000  \n",
       "50%          1.000000     0.000000     0.000000        0.000000  \n",
       "75%          2.000000     0.000000     0.000000        0.000000  \n",
       "max         33.000000    13.000000     5.000000        1.000000  "
      ]
     },
     "execution_count": 5,
     "metadata": {},
     "output_type": "execute_result"
    }
   ],
   "source": [
    "loans.describe()"
   ]
  },
  {
   "cell_type": "code",
   "execution_count": 6,
   "metadata": {},
   "outputs": [
    {
     "data": {
      "text/html": [
       "<div>\n",
       "<style scoped>\n",
       "    .dataframe tbody tr th:only-of-type {\n",
       "        vertical-align: middle;\n",
       "    }\n",
       "\n",
       "    .dataframe tbody tr th {\n",
       "        vertical-align: top;\n",
       "    }\n",
       "\n",
       "    .dataframe thead th {\n",
       "        text-align: right;\n",
       "    }\n",
       "</style>\n",
       "<table border=\"1\" class=\"dataframe\">\n",
       "  <thead>\n",
       "    <tr style=\"text-align: right;\">\n",
       "      <th></th>\n",
       "      <th>credit.policy</th>\n",
       "      <th>purpose</th>\n",
       "      <th>int.rate</th>\n",
       "      <th>installment</th>\n",
       "      <th>log.annual.inc</th>\n",
       "      <th>dti</th>\n",
       "      <th>fico</th>\n",
       "      <th>days.with.cr.line</th>\n",
       "      <th>revol.bal</th>\n",
       "      <th>revol.util</th>\n",
       "      <th>inq.last.6mths</th>\n",
       "      <th>delinq.2yrs</th>\n",
       "      <th>pub.rec</th>\n",
       "      <th>not.fully.paid</th>\n",
       "    </tr>\n",
       "  </thead>\n",
       "  <tbody>\n",
       "    <tr>\n",
       "      <td>0</td>\n",
       "      <td>1</td>\n",
       "      <td>debt_consolidation</td>\n",
       "      <td>0.1189</td>\n",
       "      <td>829.10</td>\n",
       "      <td>11.350407</td>\n",
       "      <td>19.48</td>\n",
       "      <td>737</td>\n",
       "      <td>5639.958333</td>\n",
       "      <td>28854</td>\n",
       "      <td>52.1</td>\n",
       "      <td>0</td>\n",
       "      <td>0</td>\n",
       "      <td>0</td>\n",
       "      <td>0</td>\n",
       "    </tr>\n",
       "    <tr>\n",
       "      <td>1</td>\n",
       "      <td>1</td>\n",
       "      <td>credit_card</td>\n",
       "      <td>0.1071</td>\n",
       "      <td>228.22</td>\n",
       "      <td>11.082143</td>\n",
       "      <td>14.29</td>\n",
       "      <td>707</td>\n",
       "      <td>2760.000000</td>\n",
       "      <td>33623</td>\n",
       "      <td>76.7</td>\n",
       "      <td>0</td>\n",
       "      <td>0</td>\n",
       "      <td>0</td>\n",
       "      <td>0</td>\n",
       "    </tr>\n",
       "  </tbody>\n",
       "</table>\n",
       "</div>"
      ],
      "text/plain": [
       "   credit.policy             purpose  int.rate  installment  log.annual.inc  \\\n",
       "0              1  debt_consolidation    0.1189       829.10       11.350407   \n",
       "1              1         credit_card    0.1071       228.22       11.082143   \n",
       "\n",
       "     dti  fico  days.with.cr.line  revol.bal  revol.util  inq.last.6mths  \\\n",
       "0  19.48   737        5639.958333      28854        52.1               0   \n",
       "1  14.29   707        2760.000000      33623        76.7               0   \n",
       "\n",
       "   delinq.2yrs  pub.rec  not.fully.paid  \n",
       "0            0        0               0  \n",
       "1            0        0               0  "
      ]
     },
     "execution_count": 6,
     "metadata": {},
     "output_type": "execute_result"
    }
   ],
   "source": [
    "loans.head(2)"
   ]
  },
  {
   "cell_type": "markdown",
   "metadata": {},
   "source": [
    "# Exploratory Data Analysis\n",
    "\n",
    "Let's do some data visualization! We'll use seaborn and pandas built-in plotting capabilities, but feel free to use whatever library you want. Don't worry about the colors matching, just worry about getting the main idea of the plot.\n",
    "\n",
    "** Create a histogram of two FICO distributions on top of each other, one for each credit.policy outcome.**\n",
    "\n",
    "*Note: This is pretty tricky, feel free to reference the solutions. You'll probably need one line of code for each histogram, I also recommend just using pandas built in .hist()*"
   ]
  },
  {
   "cell_type": "code",
   "execution_count": 7,
   "metadata": {},
   "outputs": [
    {
     "data": {
      "text/plain": [
       "Text(0.5, 0, 'Fico Score')"
      ]
     },
     "execution_count": 7,
     "metadata": {},
     "output_type": "execute_result"
    },
    {
     "data": {
      "image/png": "[encoded data removed]",
      "text/plain": [
       "<Figure size 432x288 with 1 Axes>"
      ]
     },
     "metadata": {
      "needs_background": "light"
     },
     "output_type": "display_data"
    }
   ],
   "source": [
    "loans[loans['credit.policy']==1]['fico'].hist(bins=30,label='Credit 1')\n",
    "loans[loans['credit.policy']==0]['fico'].hist(bins=30, label='Credit 0')\n",
    "plt.legend()\n",
    "plt.xlabel('Fico Score')"
   ]
  },
  {
   "cell_type": "markdown",
   "metadata": {},
   "source": [
    "** Create a similar figure, except this time select by the not.fully.paid column.**"
   ]
  },
  {
   "cell_type": "code",
   "execution_count": 8,
   "metadata": {},
   "outputs": [
    {
     "data": {
      "text/plain": [
       "Text(0.5, 0, 'Fico Score')"
      ]
     },
     "execution_count": 8,
     "metadata": {},
     "output_type": "execute_result"
    },
    {
     "data": {
      "image/png": "[encoded data removed]",
      "text/plain": [
       "<Figure size 432x288 with 1 Axes>"
      ]
     },
     "metadata": {
      "needs_background": "light"
     },
     "output_type": "display_data"
    }
   ],
   "source": [
    "loans[loans['not.fully.paid']==1]['fico'].hist(bins=30,label='Not fully paid 1',alpha=0.6)\n",
    "loans[loans['not.fully.paid']==0]['fico'].hist(bins=30, label='Not fully paid 0',alpha=0.6)\n",
    "plt.legend()\n",
    "plt.xlabel('Fico Score')"
   ]
  },
  {
   "cell_type": "markdown",
   "metadata": {},
   "source": [
    "** Create a countplot using seaborn showing the counts of loans by purpose, with the color hue defined by not.fully.paid. **"
   ]
  },
  {
   "cell_type": "code",
   "execution_count": 12,
   "metadata": {},
   "outputs": [
    {
     "data": {
      "text/plain": [
       "<matplotlib.axes._subplots.AxesSubplot at 0x1a25c18df08>"
      ]
     },
     "execution_count": 12,
     "metadata": {},
     "output_type": "execute_result"
    },
    {
     "data": {
      "image/png": "[encoded data removed]",
      "text/plain": [
       "<Figure size 792x504 with 1 Axes>"
      ]
     },
     "metadata": {
      "needs_background": "light"
     },
     "output_type": "display_data"
    }
   ],
   "source": [
    "plt.figure(figsize=(11,7))\n",
    "sns.countplot(x='purpose',hue='not.fully.paid',data=loans,palette='Set1')\n"
   ]
  },
  {
   "cell_type": "markdown",
   "metadata": {},
   "source": [
    "** Let's see the trend between FICO score and interest rate. Recreate the following jointplot.**"
   ]
  },
  {
   "cell_type": "code",
   "execution_count": 10,
   "metadata": {},
   "outputs": [
    {
     "data": {
      "text/plain": [
       "<seaborn.axisgrid.JointGrid at 0x1a25bf6c3c8>"
      ]
     },
     "execution_count": 10,
     "metadata": {},
     "output_type": "execute_result"
    },
    {
     "data": {
      "image/png": "[encoded data removed]",
      "text/plain": [
       "<Figure size 432x432 with 3 Axes>"
      ]
     },
     "metadata": {
      "needs_background": "light"
     },
     "output_type": "display_data"
    }
   ],
   "source": [
    "sns.jointplot(x='fico',y='int.rate',data=loans,color='purple')"
   ]
  },
  {
   "cell_type": "markdown",
   "metadata": {},
   "source": [
    "** Create the following lmplots to see if the trend differed between not.fully.paid and credit.policy. Check the documentation for lmplot() if you can't figure out how to separate it into columns.**"
   ]
  },
  {
   "cell_type": "code",
   "execution_count": 13,
   "metadata": {},
   "outputs": [
    {
     "data": {
      "text/plain": [
       "<seaborn.axisgrid.FacetGrid at 0x1a25c0b5648>"
      ]
     },
     "execution_count": 13,
     "metadata": {},
     "output_type": "execute_result"
    },
    {
     "data": {
      "image/png": "[encoded data removed]",
      "text/plain": [
       "<Figure size 789.5x360 with 2 Axes>"
      ]
     },
     "metadata": {
      "needs_background": "light"
     },
     "output_type": "display_data"
    }
   ],
   "source": [
    "sns.lmplot(y='int.rate',x='fico',data=loans,hue='credit.policy',col='not.fully.paid')"
   ]
  },
  {
   "cell_type": "markdown",
   "metadata": {},
   "source": [
    "# Setting up the Data\n",
    "\n",
    "Let's get ready to set up our data for our Random Forest Classification Model!\n",
    "\n",
    "**Check loans.info() again.**"
   ]
  },
  {
   "cell_type": "code",
   "execution_count": 14,
   "metadata": {},
   "outputs": [
    {
     "name": "stdout",
     "output_type": "stream",
     "text": [
      "<class 'pandas.core.frame.DataFrame'>\n",
      "RangeIndex: 9578 entries, 0 to 9577\n",
      "Data columns (total 14 columns):\n",
      "credit.policy        9578 non-null int64\n",
      "purpose              9578 non-null object\n",
      "int.rate             9578 non-null float64\n",
      "installment          9578 non-null float64\n",
      "log.annual.inc       9578 non-null float64\n",
      "dti                  9578 non-null float64\n",
      "fico                 9578 non-null int64\n",
      "days.with.cr.line    9578 non-null float64\n",
      "revol.bal            9578 non-null int64\n",
      "revol.util           9578 non-null float64\n",
      "inq.last.6mths       9578 non-null int64\n",
      "delinq.2yrs          9578 non-null int64\n",
      "pub.rec              9578 non-null int64\n",
      "not.fully.paid       9578 non-null int64\n",
      "dtypes: float64(6), int64(7), object(1)\n",
      "memory usage: 1.0+ MB\n"
     ]
    }
   ],
   "source": [
    "loans.info()"
   ]
  },
  {
   "cell_type": "markdown",
   "metadata": {},
   "source": [
    "## Categorical Features\n",
    "\n",
    "Notice that the **purpose** column as categorical\n",
    "\n",
    "That means we need to transform them using dummy variables so sklearn will be able to understand them. Let's do this in one clean step using pd.get_dummies.\n",
    "\n",
    "Let's show you a way of dealing with these columns that can be expanded to multiple categorical features if necessary.\n",
    "\n",
    "**Create a list of 1 element containing the string 'purpose'. Call this list cat_feats.**"
   ]
  },
  {
   "cell_type": "code",
   "execution_count": 15,
   "metadata": {},
   "outputs": [],
   "source": [
    "cat_feats=['purpose']"
   ]
  },
  {
   "cell_type": "markdown",
   "metadata": {},
   "source": [
    "**Now use pd.get_dummies(loans,columns=cat_feats,drop_first=True) to create a fixed larger dataframe that has new feature columns with dummy variables. Set this dataframe as final_data.**"
   ]
  },
  {
   "cell_type": "code",
   "execution_count": 16,
   "metadata": {},
   "outputs": [],
   "source": [
    "final_data=pd.get_dummies(loans,columns=cat_feats,drop_first=True)"
   ]
  },
  {
   "cell_type": "code",
   "execution_count": 17,
   "metadata": {},
   "outputs": [
    {
     "data": {
      "text/html": [
       "<div>\n",
       "<style scoped>\n",
       "    .dataframe tbody tr th:only-of-type {\n",
       "        vertical-align: middle;\n",
       "    }\n",
       "\n",
       "    .dataframe tbody tr th {\n",
       "        vertical-align: top;\n",
       "    }\n",
       "\n",
       "    .dataframe thead th {\n",
       "        text-align: right;\n",
       "    }\n",
       "</style>\n",
       "<table border=\"1\" class=\"dataframe\">\n",
       "  <thead>\n",
       "    <tr style=\"text-align: right;\">\n",
       "      <th></th>\n",
       "      <th>credit.policy</th>\n",
       "      <th>int.rate</th>\n",
       "      <th>installment</th>\n",
       "      <th>log.annual.inc</th>\n",
       "      <th>dti</th>\n",
       "      <th>fico</th>\n",
       "      <th>days.with.cr.line</th>\n",
       "      <th>revol.bal</th>\n",
       "      <th>revol.util</th>\n",
       "      <th>inq.last.6mths</th>\n",
       "      <th>delinq.2yrs</th>\n",
       "      <th>pub.rec</th>\n",
       "      <th>not.fully.paid</th>\n",
       "      <th>purpose_credit_card</th>\n",
       "      <th>purpose_debt_consolidation</th>\n",
       "      <th>purpose_educational</th>\n",
       "      <th>purpose_home_improvement</th>\n",
       "      <th>purpose_major_purchase</th>\n",
       "      <th>purpose_small_business</th>\n",
       "    </tr>\n",
       "  </thead>\n",
       "  <tbody>\n",
       "    <tr>\n",
       "      <td>0</td>\n",
       "      <td>1</td>\n",
       "      <td>0.1189</td>\n",
       "      <td>829.10</td>\n",
       "      <td>11.350407</td>\n",
       "      <td>19.48</td>\n",
       "      <td>737</td>\n",
       "      <td>5639.958333</td>\n",
       "      <td>28854</td>\n",
       "      <td>52.1</td>\n",
       "      <td>0</td>\n",
       "      <td>0</td>\n",
       "      <td>0</td>\n",
       "      <td>0</td>\n",
       "      <td>0</td>\n",
       "      <td>1</td>\n",
       "      <td>0</td>\n",
       "      <td>0</td>\n",
       "      <td>0</td>\n",
       "      <td>0</td>\n",
       "    </tr>\n",
       "    <tr>\n",
       "      <td>1</td>\n",
       "      <td>1</td>\n",
       "      <td>0.1071</td>\n",
       "      <td>228.22</td>\n",
       "      <td>11.082143</td>\n",
       "      <td>14.29</td>\n",
       "      <td>707</td>\n",
       "      <td>2760.000000</td>\n",
       "      <td>33623</td>\n",
       "      <td>76.7</td>\n",
       "      <td>0</td>\n",
       "      <td>0</td>\n",
       "      <td>0</td>\n",
       "      <td>0</td>\n",
       "      <td>1</td>\n",
       "      <td>0</td>\n",
       "      <td>0</td>\n",
       "      <td>0</td>\n",
       "      <td>0</td>\n",
       "      <td>0</td>\n",
       "    </tr>\n",
       "  </tbody>\n",
       "</table>\n",
       "</div>"
      ],
      "text/plain": [
       "   credit.policy  int.rate  installment  log.annual.inc    dti  fico  \\\n",
       "0              1    0.1189       829.10       11.350407  19.48   737   \n",
       "1              1    0.1071       228.22       11.082143  14.29   707   \n",
       "\n",
       "   days.with.cr.line  revol.bal  revol.util  inq.last.6mths  delinq.2yrs  \\\n",
       "0        5639.958333      28854        52.1               0            0   \n",
       "1        2760.000000      33623        76.7               0            0   \n",
       "\n",
       "   pub.rec  not.fully.paid  purpose_credit_card  purpose_debt_consolidation  \\\n",
       "0        0               0                    0                           1   \n",
       "1        0               0                    1                           0   \n",
       "\n",
       "   purpose_educational  purpose_home_improvement  purpose_major_purchase  \\\n",
       "0                    0                         0                       0   \n",
       "1                    0                         0                       0   \n",
       "\n",
       "   purpose_small_business  \n",
       "0                       0  \n",
       "1                       0  "
      ]
     },
     "execution_count": 17,
     "metadata": {},
     "output_type": "execute_result"
    }
   ],
   "source": [
    "final_data.head(2)"
   ]
  },
  {
   "cell_type": "markdown",
   "metadata": {},
   "source": [
    "## Train Test Split\n",
    "\n",
    "Now its time to split our data into a training set and a testing set!\n",
    "\n",
    "** Use sklearn to split your data into a training set and a testing set as we've done in the past.**"
   ]
  },
  {
   "cell_type": "code",
   "execution_count": 20,
   "metadata": {},
   "outputs": [],
   "source": [
    "from sklearn.model_selection import train_test_split"
   ]
  },
  {
   "cell_type": "code",
   "execution_count": 22,
   "metadata": {},
   "outputs": [],
   "source": [
    "X=final_data.drop('not.fully.paid', axis=1)\n",
    "y=final_data['not.fully.paid']\n",
    "X_train, X_test, y_train, y_test = train_test_split(\n",
    "    X, y, test_size=0.33, random_state=42)"
   ]
  },
  {
   "cell_type": "markdown",
   "metadata": {},
   "source": [
    "## Training a Decision Tree Model\n",
    "\n",
    "Let's start by training a single decision tree first!\n",
    "\n",
    "** Import DecisionTreeClassifier**"
   ]
  },
  {
   "cell_type": "code",
   "execution_count": 23,
   "metadata": {},
   "outputs": [],
   "source": [
    "from sklearn.tree import DecisionTreeClassifier"
   ]
  },
  {
   "cell_type": "markdown",
   "metadata": {},
   "source": [
    "**Create an instance of DecisionTreeClassifier() called dtree and fit it to the training data.**"
   ]
  },
  {
   "cell_type": "code",
   "execution_count": 24,
   "metadata": {},
   "outputs": [],
   "source": [
    "dtree=DecisionTreeClassifier()"
   ]
  },
  {
   "cell_type": "code",
   "execution_count": 25,
   "metadata": {},
   "outputs": [
    {
     "data": {
      "text/plain": [
       "DecisionTreeClassifier(class_weight=None, criterion='gini', max_depth=None,\n",
       "                       max_features=None, max_leaf_nodes=None,\n",
       "                       min_impurity_decrease=0.0, min_impurity_split=None,\n",
       "                       min_samples_leaf=1, min_samples_split=2,\n",
       "                       min_weight_fraction_leaf=0.0, presort=False,\n",
       "                       random_state=None, splitter='best')"
      ]
     },
     "execution_count": 25,
     "metadata": {},
     "output_type": "execute_result"
    }
   ],
   "source": [
    "dtree.fit(X_train,y_train)"
   ]
  },
  {
   "cell_type": "markdown",
   "metadata": {},
   "source": [
    "## Predictions and Evaluation of Decision Tree\n",
    "**Create predictions from the test set and create a classification report and a confusion matrix.**"
   ]
  },
  {
   "cell_type": "code",
   "execution_count": 26,
   "metadata": {},
   "outputs": [],
   "source": [
    "predictions=dtree.predict(X_test)"
   ]
  },
  {
   "cell_type": "code",
   "execution_count": 27,
   "metadata": {},
   "outputs": [],
   "source": [
    "from sklearn.metrics import classification_report, confusion_matrix"
   ]
  },
  {
   "cell_type": "code",
   "execution_count": 28,
   "metadata": {},
   "outputs": [
    {
     "name": "stdout",
     "output_type": "stream",
     "text": [
      "              precision    recall  f1-score   support\n",
      "\n",
      "           0       0.85      0.84      0.84      2650\n",
      "           1       0.21      0.22      0.21       511\n",
      "\n",
      "    accuracy                           0.74      3161\n",
      "   macro avg       0.53      0.53      0.53      3161\n",
      "weighted avg       0.74      0.74      0.74      3161\n",
      "\n"
     ]
    }
   ],
   "source": [
    "print(classification_report(y_test,predictions))"
   ]
  },
  {
   "cell_type": "code",
   "execution_count": 29,
   "metadata": {},
   "outputs": [
    {
     "name": "stdout",
     "output_type": "stream",
     "text": [
      "[[2220  430]\n",
      " [ 399  112]]\n"
     ]
    }
   ],
   "source": [
    "print(confusion_matrix(y_test,predictions))"
   ]
  },
  {
   "cell_type": "markdown",
   "metadata": {},
   "source": [
    "## Training the Random Forest model\n",
    "\n",
    "Now its time to train our model!\n",
    "\n",
    "**Create an instance of the RandomForestClassifier class and fit it to our training data from the previous step.**"
   ]
  },
  {
   "cell_type": "code",
   "execution_count": 32,
   "metadata": {},
   "outputs": [],
   "source": [
    "from sklearn.ensemble import RandomForestClassifier"
   ]
  },
  {
   "cell_type": "code",
   "execution_count": 33,
   "metadata": {},
   "outputs": [],
   "source": [
    "rfc= RandomForestClassifier(n_estimators=300)"
   ]
  },
  {
   "cell_type": "raw",
   "metadata": {
    "collapsed": true
   },
   "source": []
  },
  {
   "cell_type": "code",
   "execution_count": 34,
   "metadata": {},
   "outputs": [
    {
     "data": {
      "text/plain": [
       "RandomForestClassifier(bootstrap=True, class_weight=None, criterion='gini',\n",
       "                       max_depth=None, max_features='auto', max_leaf_nodes=None,\n",
       "                       min_impurity_decrease=0.0, min_impurity_split=None,\n",
       "                       min_samples_leaf=1, min_samples_split=2,\n",
       "                       min_weight_fraction_leaf=0.0, n_estimators=300,\n",
       "                       n_jobs=None, oob_score=False, random_state=None,\n",
       "                       verbose=0, warm_start=False)"
      ]
     },
     "execution_count": 34,
     "metadata": {},
     "output_type": "execute_result"
    }
   ],
   "source": [
    "rfc.fit(X_train,y_train)"
   ]
  },
  {
   "cell_type": "markdown",
   "metadata": {},
   "source": [
    "## Predictions and Evaluation\n",
    "\n",
    "Let's predict off the y_test values and evaluate our model.\n",
    "\n",
    "** Predict the class of not.fully.paid for the X_test data.**"
   ]
  },
  {
   "cell_type": "code",
   "execution_count": 35,
   "metadata": {},
   "outputs": [],
   "source": [
    "predict=rfc.predict(X_test)"
   ]
  },
  {
   "cell_type": "markdown",
   "metadata": {},
   "source": [
    "**Now create a classification report from the results. Do you get anything strange or some sort of warning?**"
   ]
  },
  {
   "cell_type": "code",
   "execution_count": 29,
   "metadata": {
    "collapsed": true
   },
   "outputs": [],
   "source": []
  },
  {
   "cell_type": "code",
   "execution_count": 36,
   "metadata": {},
   "outputs": [
    {
     "name": "stdout",
     "output_type": "stream",
     "text": [
      "              precision    recall  f1-score   support\n",
      "\n",
      "           0       0.84      0.99      0.91      2650\n",
      "           1       0.32      0.01      0.03       511\n",
      "\n",
      "    accuracy                           0.84      3161\n",
      "   macro avg       0.58      0.50      0.47      3161\n",
      "weighted avg       0.76      0.84      0.77      3161\n",
      "\n"
     ]
    }
   ],
   "source": [
    "print(classification_report(y_test,predict))"
   ]
  },
  {
   "cell_type": "markdown",
   "metadata": {},
   "source": [
    "**Show the Confusion Matrix for the predictions.**"
   ]
  },
  {
   "cell_type": "code",
   "execution_count": 37,
   "metadata": {},
   "outputs": [
    {
     "name": "stdout",
     "output_type": "stream",
     "text": [
      "[[2635   15]\n",
      " [ 504    7]]\n"
     ]
    }
   ],
   "source": [
    "print(confusion_matrix(y_test,predict))"
   ]
  },
  {
   "cell_type": "markdown",
   "metadata": {
    "collapsed": true
   },
   "source": [
    "**What performed better the random forest or the decision tree?**"
   ]
  },
  {
   "cell_type": "code",
   "execution_count": null,
   "metadata": {},
   "outputs": [],
   "source": []
  },
  {
   "cell_type": "markdown",
   "metadata": {},
   "source": [
    "# Great Job!"
   ]
  }
 ],
 "metadata": {
  "kernelspec": {
   "display_name": "Python 3",
   "language": "python",
   "name": "python3"
  },
  "language_info": {
   "codemirror_mode": {
    "name": "ipython",
    "version": 3
   },
   "file_extension": ".py",
   "mimetype": "text/x-python",
   "name": "python",
   "nbconvert_exporter": "python",
   "pygments_lexer": "ipython3",
   "version": "3.7.4"
  }
 },
 "nbformat": 4,
 "nbformat_minor": 1
}
